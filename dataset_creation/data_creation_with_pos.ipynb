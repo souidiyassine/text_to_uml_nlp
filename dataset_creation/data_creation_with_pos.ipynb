{
 "cells": [
  {
   "cell_type": "code",
   "execution_count": 25,
   "metadata": {},
   "outputs": [],
   "source": [
    "with open('dataset.txt') as f:\n",
    "    lines = f.readlines()"
   ]
  },
  {
   "cell_type": "code",
   "execution_count": 26,
   "metadata": {},
   "outputs": [],
   "source": [
    "reqs = []\n",
    "for line in lines:\n",
    "    if line.startswith(\"F:\"):\n",
    "        reqs.append(line.replace(\"F:\", \"\").strip())"
   ]
  },
  {
   "cell_type": "code",
   "execution_count": 27,
   "metadata": {},
   "outputs": [
    {
     "data": {
      "text/plain": [
       "'The system shall have a MDI form that allows for the viewing of the graph and the data table.'"
      ]
     },
     "execution_count": 27,
     "metadata": {},
     "output_type": "execute_result"
    }
   ],
   "source": [
    "reqs[0]"
   ]
  },
  {
   "cell_type": "code",
   "execution_count": 28,
   "metadata": {},
   "outputs": [
    {
     "data": {
      "text/plain": [
       "255"
      ]
     },
     "execution_count": 28,
     "metadata": {},
     "output_type": "execute_result"
    }
   ],
   "source": [
    "len(reqs)"
   ]
  },
  {
   "cell_type": "code",
   "execution_count": 29,
   "metadata": {},
   "outputs": [],
   "source": [
    "import os\n",
    "\n",
    "for file in os.listdir(\"en\"):\n",
    "    if file.endswith(\".txt\"):\n",
    "        with open(\"en/\" + file) as f:\n",
    "            lines = f.readlines()\n",
    "            for line in lines:\n",
    "                reqs.append(line)"
   ]
  },
  {
   "cell_type": "code",
   "execution_count": 31,
   "metadata": {},
   "outputs": [
    {
     "data": {
      "text/plain": [
       "'A house may have any number of pets living in it. The two possible types of pets that can live in a house are dogs and cats. Each dog or cat has a name. An animalâ€™s house is its one and only home. You can ell an animal to make noise and it will do its thing.'"
      ]
     },
     "execution_count": 31,
     "metadata": {},
     "output_type": "execute_result"
    }
   ],
   "source": [
    "reqs[len(reqs) - 1]"
   ]
  },
  {
   "cell_type": "code",
   "execution_count": 32,
   "metadata": {},
   "outputs": [],
   "source": [
    "import nltk"
   ]
  },
  {
   "cell_type": "code",
   "execution_count": 33,
   "metadata": {},
   "outputs": [],
   "source": [
    "from spacy_functions import *"
   ]
  },
  {
   "cell_type": "code",
   "execution_count": 34,
   "metadata": {},
   "outputs": [],
   "source": [
    "import spacy\n",
    "nlp = spacy.load(\"en_core_web_sm\")"
   ]
  },
  {
   "cell_type": "code",
   "execution_count": 35,
   "metadata": {},
   "outputs": [],
   "source": [
    "labels = []\n",
    "pos = []\n",
    "for req in reqs:\n",
    "    if not req.endswith(\".\"):\n",
    "        req += \".\"\n",
    "    p = []\n",
    "    doc = nlp(req)\n",
    "    for token in doc:\n",
    "        p.append(token.pos_)\n",
    "    text_token = nltk.sent_tokenize(str(req))\n",
    "    for token in text_token:\n",
    "        wordsList = nltk.word_tokenize(token)\n",
    "    wordsList\n",
    "    l = []\n",
    "\n",
    "    uml, inheritance, relationship, object, object_inh = text_to_uml(str(req))\n",
    "    for w in wordsList:\n",
    "        e, a, r = 0, 0, 0\n",
    "        for entities, attr in uml.items():\n",
    "            if w == entities:\n",
    "                e = 1\n",
    "                break\n",
    "            if len(attr) > 0:\n",
    "                if w == attr[0][0]:\n",
    "                    a = 1\n",
    "                    break\n",
    "        if w in relationship:\n",
    "            r = 1\n",
    "        if e == 0 and a == 0 and r == 0:\n",
    "            l.append(\"O\")\n",
    "        elif e == 1:\n",
    "            l.append(\"entity\")\n",
    "        elif a == 1:\n",
    "            l.append(\"attr\")\n",
    "        elif r == 1:\n",
    "            l.append(\"relationship\")\n",
    "    l = \" \".join(l)\n",
    "    p = \" \".join(p)\n",
    "    labels.append(l)\n",
    "    pos.append(p)"
   ]
  },
  {
   "cell_type": "code",
   "execution_count": 36,
   "metadata": {},
   "outputs": [
    {
     "data": {
      "text/plain": [
       "263"
      ]
     },
     "execution_count": 36,
     "metadata": {},
     "output_type": "execute_result"
    }
   ],
   "source": [
    "len(pos)"
   ]
  },
  {
   "cell_type": "code",
   "execution_count": 37,
   "metadata": {},
   "outputs": [
    {
     "data": {
      "text/plain": [
       "263"
      ]
     },
     "execution_count": 37,
     "metadata": {},
     "output_type": "execute_result"
    }
   ],
   "source": [
    "len(labels)"
   ]
  },
  {
   "cell_type": "code",
   "execution_count": 38,
   "metadata": {},
   "outputs": [
    {
     "data": {
      "text/html": [
       "<div>\n",
       "<style scoped>\n",
       "    .dataframe tbody tr th:only-of-type {\n",
       "        vertical-align: middle;\n",
       "    }\n",
       "\n",
       "    .dataframe tbody tr th {\n",
       "        vertical-align: top;\n",
       "    }\n",
       "\n",
       "    .dataframe thead th {\n",
       "        text-align: right;\n",
       "    }\n",
       "</style>\n",
       "<table border=\"1\" class=\"dataframe\">\n",
       "  <thead>\n",
       "    <tr style=\"text-align: right;\">\n",
       "      <th></th>\n",
       "      <th>req</th>\n",
       "      <th>pos</th>\n",
       "      <th>labels</th>\n",
       "    </tr>\n",
       "  </thead>\n",
       "  <tbody>\n",
       "    <tr>\n",
       "      <th>0</th>\n",
       "      <td>The system shall have a MDI form that allows f...</td>\n",
       "      <td>DET NOUN AUX VERB DET PROPN NOUN PRON VERB ADP...</td>\n",
       "      <td>O O O O O O entity O O O O entity O O entity O...</td>\n",
       "    </tr>\n",
       "    <tr>\n",
       "      <th>1</th>\n",
       "      <td>The system shall display Events in a vertical ...</td>\n",
       "      <td>DET NOUN AUX VERB NOUN ADP DET ADJ NOUN ADP NO...</td>\n",
       "      <td>O O O O O O O O entity O entity O</td>\n",
       "    </tr>\n",
       "    <tr>\n",
       "      <th>2</th>\n",
       "      <td>The system shall display the Events in a graph...</td>\n",
       "      <td>DET NOUN AUX VERB DET NOUN ADP DET NOUN ADP NO...</td>\n",
       "      <td>O O O O O O O O entity O entity O</td>\n",
       "    </tr>\n",
       "    <tr>\n",
       "      <th>3</th>\n",
       "      <td>The Disputes System must be accessible by both...</td>\n",
       "      <td>DET PROPN PROPN AUX AUX ADJ ADP CCONJ ADJ CCON...</td>\n",
       "      <td>O O O O O O O O O O O O O</td>\n",
       "    </tr>\n",
       "    <tr>\n",
       "      <th>4</th>\n",
       "      <td>The Disputes System must prevent users from ac...</td>\n",
       "      <td>DET PROPN PROPN AUX VERB NOUN ADP VERB DET NOU...</td>\n",
       "      <td>O O O O O O O entity O O O O O O O O O O O O</td>\n",
       "    </tr>\n",
       "    <tr>\n",
       "      <th>...</th>\n",
       "      <td>...</td>\n",
       "      <td>...</td>\n",
       "      <td>...</td>\n",
       "    </tr>\n",
       "    <tr>\n",
       "      <th>258</th>\n",
       "      <td>Let the following sentences apply: A directory...</td>\n",
       "      <td>VERB DET VERB NOUN VERB PUNCT DET NOUN VERB NO...</td>\n",
       "      <td>O O O O O O O O O O entity O</td>\n",
       "    </tr>\n",
       "    <tr>\n",
       "      <th>259</th>\n",
       "      <td>A company has several warehouses located in di...</td>\n",
       "      <td>DET NOUN VERB ADJ NOUN VERB ADP ADJ NOUN PUNCT...</td>\n",
       "      <td>O attr entity O O O O O entity O O attr O</td>\n",
       "    </tr>\n",
       "    <tr>\n",
       "      <th>260</th>\n",
       "      <td>You are asked to create a database to store co...</td>\n",
       "      <td>PRON AUX VERB PART VERB DET NOUN PART VERB NOU...</td>\n",
       "      <td>O O entity O O O O O O O</td>\n",
       "    </tr>\n",
       "    <tr>\n",
       "      <th>261</th>\n",
       "      <td>Cinemas are composed of several rooms. Films a...</td>\n",
       "      <td>NOUN AUX VERB ADP ADJ NOUN PUNCT NOUN AUX VERB...</td>\n",
       "      <td>O O O relationship entity O O O entity O O</td>\n",
       "    </tr>\n",
       "    <tr>\n",
       "      <th>262</th>\n",
       "      <td>A house may have any number of pets living in ...</td>\n",
       "      <td>DET NOUN AUX VERB DET NOUN ADP NOUN VERB ADP P...</td>\n",
       "      <td>O O O O entity O relationship entity O O O O O...</td>\n",
       "    </tr>\n",
       "  </tbody>\n",
       "</table>\n",
       "<p>263 rows × 3 columns</p>\n",
       "</div>"
      ],
      "text/plain": [
       "                                                   req  \\\n",
       "0    The system shall have a MDI form that allows f...   \n",
       "1    The system shall display Events in a vertical ...   \n",
       "2    The system shall display the Events in a graph...   \n",
       "3    The Disputes System must be accessible by both...   \n",
       "4    The Disputes System must prevent users from ac...   \n",
       "..                                                 ...   \n",
       "258  Let the following sentences apply: A directory...   \n",
       "259  A company has several warehouses located in di...   \n",
       "260  You are asked to create a database to store co...   \n",
       "261  Cinemas are composed of several rooms. Films a...   \n",
       "262  A house may have any number of pets living in ...   \n",
       "\n",
       "                                                   pos  \\\n",
       "0    DET NOUN AUX VERB DET PROPN NOUN PRON VERB ADP...   \n",
       "1    DET NOUN AUX VERB NOUN ADP DET ADJ NOUN ADP NO...   \n",
       "2    DET NOUN AUX VERB DET NOUN ADP DET NOUN ADP NO...   \n",
       "3    DET PROPN PROPN AUX AUX ADJ ADP CCONJ ADJ CCON...   \n",
       "4    DET PROPN PROPN AUX VERB NOUN ADP VERB DET NOU...   \n",
       "..                                                 ...   \n",
       "258  VERB DET VERB NOUN VERB PUNCT DET NOUN VERB NO...   \n",
       "259  DET NOUN VERB ADJ NOUN VERB ADP ADJ NOUN PUNCT...   \n",
       "260  PRON AUX VERB PART VERB DET NOUN PART VERB NOU...   \n",
       "261  NOUN AUX VERB ADP ADJ NOUN PUNCT NOUN AUX VERB...   \n",
       "262  DET NOUN AUX VERB DET NOUN ADP NOUN VERB ADP P...   \n",
       "\n",
       "                                                labels  \n",
       "0    O O O O O O entity O O O O entity O O entity O...  \n",
       "1                    O O O O O O O O entity O entity O  \n",
       "2                    O O O O O O O O entity O entity O  \n",
       "3                            O O O O O O O O O O O O O  \n",
       "4         O O O O O O O entity O O O O O O O O O O O O  \n",
       "..                                                 ...  \n",
       "258                       O O O O O O O O O O entity O  \n",
       "259          O attr entity O O O O O entity O O attr O  \n",
       "260                           O O entity O O O O O O O  \n",
       "261         O O O relationship entity O O O entity O O  \n",
       "262  O O O O entity O relationship entity O O O O O...  \n",
       "\n",
       "[263 rows x 3 columns]"
      ]
     },
     "execution_count": 38,
     "metadata": {},
     "output_type": "execute_result"
    }
   ],
   "source": [
    "import pandas as pd\n",
    "df = pd.DataFrame({'req': reqs, 'pos': pos, 'labels': labels})\n",
    "df"
   ]
  },
  {
   "cell_type": "code",
   "execution_count": 39,
   "metadata": {},
   "outputs": [],
   "source": [
    "df.to_csv(\"ner_dataset_with_pos_2.csv\", index=False)"
   ]
  },
  {
   "cell_type": "code",
   "execution_count": 40,
   "metadata": {},
   "outputs": [],
   "source": [
    "from spacy_functions import *"
   ]
  },
  {
   "cell_type": "code",
   "execution_count": 41,
   "metadata": {},
   "outputs": [
    {
     "name": "stdout",
     "output_type": "stream",
     "text": [
      "{'collision_estimate', 'adjuster'}\n",
      "(['review'], [('adjuster', 'collision_estimate')])\n"
     ]
    }
   ],
   "source": [
    "text=\"The adjuster shall can review collision estimate\"\n",
    "print(get_classes(text))\n",
    "print(get_relations(text))"
   ]
  },
  {
   "cell_type": "code",
   "execution_count": 42,
   "metadata": {},
   "outputs": [
    {
     "data": {
      "text/plain": [
       "(['create'], [('user', 'account')])"
      ]
     },
     "execution_count": 42,
     "metadata": {},
     "output_type": "execute_result"
    }
   ],
   "source": [
    "get_relations(\"The user create an account\")"
   ]
  },
  {
   "cell_type": "code",
   "execution_count": 43,
   "metadata": {},
   "outputs": [
    {
     "name": "stdout",
     "output_type": "stream",
     "text": [
      "{'user', 'cover_letter'}\n",
      "(['write'], [('user', 'cover_letter')])\n"
     ]
    }
   ],
   "source": [
    "text=\"The user can write a many cover letters\"\n",
    "print(get_classes(text))\n",
    "print(get_relations(text))"
   ]
  },
  {
   "cell_type": "code",
   "execution_count": 44,
   "metadata": {},
   "outputs": [
    {
     "name": "stdout",
     "output_type": "stream",
     "text": [
      "{'student', 'user'}\n",
      "(['is a'], [('user', 'student')])\n"
     ]
    }
   ],
   "source": [
    "text=\"The user is a student\"\n",
    "print(get_classes(text))\n",
    "print(get_inheritances(text))"
   ]
  },
  {
   "cell_type": "code",
   "execution_count": null,
   "metadata": {},
   "outputs": [],
   "source": []
  }
 ],
 "metadata": {
  "kernelspec": {
   "display_name": "Python 3.9.2 64-bit",
   "language": "python",
   "name": "python3"
  },
  "language_info": {
   "codemirror_mode": {
    "name": "ipython",
    "version": 3
   },
   "file_extension": ".py",
   "mimetype": "text/x-python",
   "name": "python",
   "nbconvert_exporter": "python",
   "pygments_lexer": "ipython3",
   "version": "3.9.2"
  },
  "orig_nbformat": 4,
  "vscode": {
   "interpreter": {
    "hash": "e47b7447f29de4e8d3275cec8572111082fa48c763628ddfbb9b0f42b5843d57"
   }
  }
 },
 "nbformat": 4,
 "nbformat_minor": 2
}
