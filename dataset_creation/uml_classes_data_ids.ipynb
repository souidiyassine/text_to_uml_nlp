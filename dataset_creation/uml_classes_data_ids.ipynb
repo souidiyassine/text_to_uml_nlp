{
 "cells": [
  {
   "cell_type": "code",
   "execution_count": 28,
   "metadata": {},
   "outputs": [],
   "source": [
    "import os\n",
    "path = os.getcwd()\n",
    "import shutil"
   ]
  },
  {
   "cell_type": "code",
   "execution_count": 42,
   "metadata": {},
   "outputs": [],
   "source": [
    "i = 1\n",
    "for file in os.listdir(path):\n",
    "    if file.endswith(\".txt\"):\n",
    "        with open(file, 'r+') as f:\n",
    "            content = f.read()\n",
    "            with open(\"new_data/\" + str(i) + \".txt\", \"w\") as f:\n",
    "                f.write(str(i).rstrip('\\r\\n') + '\\n' + content)\n",
    "        \n",
    "        try:\n",
    "            shutil.copy(file.split(\".\")[0] + \".jpg\", \"new_data/\" + str(i) + \".jpg\")\n",
    "        except:\n",
    "            try: shutil.copy(file.split(\".\")[0] + \".png\", \"new_data/\" + str(i) + \".png\")\n",
    "            except: shutil.copy(file.split(\".\")[0][:-3] + \".png\", \"new_data/\" + str(i) + \".png\")\n",
    "        i += 1"
   ]
  },
  {
   "cell_type": "code",
   "execution_count": 24,
   "metadata": {},
   "outputs": [],
   "source": []
  }
 ],
 "metadata": {
  "kernelspec": {
   "display_name": "Python 3.9.2 64-bit",
   "language": "python",
   "name": "python3"
  },
  "language_info": {
   "codemirror_mode": {
    "name": "ipython",
    "version": 3
   },
   "file_extension": ".py",
   "mimetype": "text/x-python",
   "name": "python",
   "nbconvert_exporter": "python",
   "pygments_lexer": "ipython3",
   "version": "3.9.2 (tags/v3.9.2:1a79785, Feb 19 2021, 13:44:55) [MSC v.1928 64 bit (AMD64)]"
  },
  "orig_nbformat": 4,
  "vscode": {
   "interpreter": {
    "hash": "e47b7447f29de4e8d3275cec8572111082fa48c763628ddfbb9b0f42b5843d57"
   }
  }
 },
 "nbformat": 4,
 "nbformat_minor": 2
}
